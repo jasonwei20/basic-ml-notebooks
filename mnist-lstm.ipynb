{
 "cells": [
  {
   "cell_type": "markdown",
   "metadata": {},
   "source": [
    "# LSTM on MNIST Dataset\n",
    "\n",
    "This is almost an exact copy of example code that works well from [here](https://github.com/aymericdamien/TensorFlow-Examples/blob/master/examples/3_NeuralNetworks/recurrent_network.py). I've just tested it and cleaned it up a little."
   ]
  },
  {
   "cell_type": "code",
   "execution_count": 3,
   "metadata": {},
   "outputs": [
    {
     "name": "stdout",
     "output_type": "stream",
     "text": [
      "Extracting /tmp/data/train-images-idx3-ubyte.gz\n",
      "Extracting /tmp/data/train-labels-idx1-ubyte.gz\n",
      "Extracting /tmp/data/t10k-images-idx3-ubyte.gz\n",
      "Extracting /tmp/data/t10k-labels-idx1-ubyte.gz\n"
     ]
    }
   ],
   "source": [
    "from __future__ import print_function\n",
    "\n",
    "import tensorflow as tf\n",
    "from tensorflow.contrib import rnn\n",
    "\n",
    "# Import MNIST data\n",
    "from tensorflow.examples.tutorials.mnist import input_data\n",
    "mnist = input_data.read_data_sets(\"/tmp/data/\", one_hot=True)"
   ]
  },
  {
   "cell_type": "markdown",
   "metadata": {},
   "source": [
    "Hyperparameters."
   ]
  },
  {
   "cell_type": "code",
   "execution_count": 4,
   "metadata": {
    "collapsed": true
   },
   "outputs": [],
   "source": [
    "# Training Parameters\n",
    "learning_rate = 0.001\n",
    "training_steps = 10000\n",
    "batch_size = 128\n",
    "display_step = 200\n",
    "\n",
    "# Network Parameters\n",
    "num_input = 28 # MNIST data input (img shape: 28*28)\n",
    "timesteps = 28 # timesteps\n",
    "num_hidden = 128 # hidden layer num of features\n",
    "num_classes = 10 # MNIST total classes (0-9 digits)"
   ]
  },
  {
   "cell_type": "markdown",
   "metadata": {},
   "source": [
    "Creating the weights and biases, as well as defining the RNN."
   ]
  },
  {
   "cell_type": "code",
   "execution_count": 5,
   "metadata": {
    "collapsed": true
   },
   "outputs": [],
   "source": [
    "# tf Graph input\n",
    "X = tf.placeholder(\"float\", [None, timesteps, num_input])\n",
    "Y = tf.placeholder(\"float\", [None, num_classes])\n",
    "\n",
    "# Define weights\n",
    "weights = {\n",
    "    'out': tf.Variable(tf.random_normal([num_hidden, num_classes]))\n",
    "}\n",
    "biases = {\n",
    "    'out': tf.Variable(tf.random_normal([num_classes]))\n",
    "}\n",
    "\n",
    "\n",
    "def RNN(x, weights, biases):\n",
    "\n",
    "    # Prepare data shape to match `rnn` function requirements\n",
    "    # Current data input shape: (batch_size, timesteps, n_input)\n",
    "    # Required shape: 'timesteps' tensors list of shape (batch_size, n_input)\n",
    "\n",
    "    # Unstack to get a list of 'timesteps' tensors of shape (batch_size, n_input)\n",
    "    x = tf.unstack(x, timesteps, 1)\n",
    "\n",
    "    # Define a lstm cell with tensorflow\n",
    "    lstm_cell = rnn.BasicLSTMCell(num_hidden, forget_bias=1.0)\n",
    "\n",
    "    # Get lstm cell output\n",
    "    outputs, states = rnn.static_rnn(lstm_cell, x, dtype=tf.float32)\n",
    "\n",
    "    # Linear activation, using rnn inner loop last output\n",
    "    return tf.matmul(outputs[-1], weights['out']) + biases['out']\n",
    "\n"
   ]
  },
  {
   "cell_type": "markdown",
   "metadata": {},
   "source": [
    "Initialize the loss and optimizer. "
   ]
  },
  {
   "cell_type": "code",
   "execution_count": 6,
   "metadata": {
    "collapsed": true
   },
   "outputs": [],
   "source": [
    "logits = RNN(X, weights, biases)\n",
    "prediction = tf.nn.softmax(logits)\n",
    "\n",
    "# Define loss and optimizer\n",
    "loss_op = tf.reduce_mean(tf.nn.softmax_cross_entropy_with_logits(\n",
    "    logits=logits, labels=Y))\n",
    "optimizer = tf.train.GradientDescentOptimizer(learning_rate=learning_rate)\n",
    "train_op = optimizer.minimize(loss_op)\n",
    "\n",
    "# Evaluate model (with test logits, for dropout to be disabled)\n",
    "correct_pred = tf.equal(tf.argmax(prediction, 1), tf.argmax(Y, 1))\n",
    "accuracy = tf.reduce_mean(tf.cast(correct_pred, tf.float32))\n",
    "\n",
    "# Initialize the variables (i.e. assign their default value)\n",
    "init = tf.global_variables_initializer()"
   ]
  },
  {
   "cell_type": "markdown",
   "metadata": {},
   "source": [
    "Training and testing the model."
   ]
  },
  {
   "cell_type": "code",
   "execution_count": 9,
   "metadata": {},
   "outputs": [
    {
     "name": "stdout",
     "output_type": "stream",
     "text": [
      "Step 1, Minibatch Loss= 2.7711, Training Accuracy= 0.117\n",
      "Step 200, Minibatch Loss= 1.9809, Training Accuracy= 0.328\n",
      "Step 400, Minibatch Loss= 1.9034, Training Accuracy= 0.359\n",
      "Step 600, Minibatch Loss= 1.7125, Training Accuracy= 0.414\n",
      "Step 800, Minibatch Loss= 1.4659, Training Accuracy= 0.578\n",
      "Step 1000, Minibatch Loss= 1.4648, Training Accuracy= 0.555\n",
      "Step 1200, Minibatch Loss= 1.5403, Training Accuracy= 0.477\n",
      "Step 1400, Minibatch Loss= 1.4441, Training Accuracy= 0.539\n",
      "Step 1600, Minibatch Loss= 1.3726, Training Accuracy= 0.523\n",
      "Step 1800, Minibatch Loss= 1.2944, Training Accuracy= 0.555\n",
      "Step 2000, Minibatch Loss= 1.2500, Training Accuracy= 0.562\n",
      "Step 2200, Minibatch Loss= 1.1855, Training Accuracy= 0.656\n",
      "Step 2400, Minibatch Loss= 1.0870, Training Accuracy= 0.703\n",
      "Step 2600, Minibatch Loss= 1.0491, Training Accuracy= 0.625\n",
      "Step 2800, Minibatch Loss= 1.0685, Training Accuracy= 0.664\n",
      "Step 3000, Minibatch Loss= 1.0722, Training Accuracy= 0.656\n",
      "Step 3200, Minibatch Loss= 0.9988, Training Accuracy= 0.711\n",
      "Step 3400, Minibatch Loss= 1.0552, Training Accuracy= 0.664\n",
      "Step 3600, Minibatch Loss= 0.8559, Training Accuracy= 0.688\n",
      "Step 3800, Minibatch Loss= 0.7541, Training Accuracy= 0.781\n",
      "Step 4000, Minibatch Loss= 0.8840, Training Accuracy= 0.688\n",
      "Step 4200, Minibatch Loss= 0.8490, Training Accuracy= 0.719\n",
      "Step 4400, Minibatch Loss= 0.8283, Training Accuracy= 0.758\n",
      "Step 4600, Minibatch Loss= 0.8119, Training Accuracy= 0.805\n",
      "Step 4800, Minibatch Loss= 0.7723, Training Accuracy= 0.742\n",
      "Step 5000, Minibatch Loss= 0.8285, Training Accuracy= 0.727\n",
      "Step 5200, Minibatch Loss= 0.4952, Training Accuracy= 0.859\n",
      "Step 5400, Minibatch Loss= 0.8062, Training Accuracy= 0.742\n",
      "Step 5600, Minibatch Loss= 0.6096, Training Accuracy= 0.789\n",
      "Step 5800, Minibatch Loss= 0.7112, Training Accuracy= 0.750\n",
      "Step 6000, Minibatch Loss= 0.7209, Training Accuracy= 0.773\n",
      "Step 6200, Minibatch Loss= 0.6435, Training Accuracy= 0.797\n",
      "Step 6400, Minibatch Loss= 0.5855, Training Accuracy= 0.820\n",
      "Step 6600, Minibatch Loss= 0.5220, Training Accuracy= 0.797\n",
      "Step 6800, Minibatch Loss= 0.6253, Training Accuracy= 0.812\n",
      "Step 7000, Minibatch Loss= 0.4867, Training Accuracy= 0.859\n",
      "Step 7200, Minibatch Loss= 0.6163, Training Accuracy= 0.797\n",
      "Step 7400, Minibatch Loss= 0.4838, Training Accuracy= 0.875\n",
      "Step 7600, Minibatch Loss= 0.4127, Training Accuracy= 0.875\n",
      "Step 7800, Minibatch Loss= 0.4731, Training Accuracy= 0.828\n",
      "Step 8000, Minibatch Loss= 0.3892, Training Accuracy= 0.891\n",
      "Step 8200, Minibatch Loss= 0.4843, Training Accuracy= 0.883\n",
      "Step 8400, Minibatch Loss= 0.3350, Training Accuracy= 0.906\n",
      "Step 8600, Minibatch Loss= 0.5602, Training Accuracy= 0.820\n",
      "Step 8800, Minibatch Loss= 0.5164, Training Accuracy= 0.836\n",
      "Step 9000, Minibatch Loss= 0.5932, Training Accuracy= 0.750\n",
      "Step 9200, Minibatch Loss= 0.4543, Training Accuracy= 0.867\n",
      "Step 9400, Minibatch Loss= 0.4443, Training Accuracy= 0.875\n",
      "Step 9600, Minibatch Loss= 0.4823, Training Accuracy= 0.828\n",
      "Step 9800, Minibatch Loss= 0.4903, Training Accuracy= 0.852\n",
      "Step 10000, Minibatch Loss= 0.3529, Training Accuracy= 0.906\n",
      "Optimization Finished!\n",
      "Testing Accuracy: 0.90625\n"
     ]
    }
   ],
   "source": [
    "\"\"\" \n",
    "Original Author: Aymeric Damien\n",
    "Project: https://github.com/aymericdamien/TensorFlow-Examples/\n",
    "\"\"\"\n",
    "# Start training\n",
    "with tf.Session() as sess:\n",
    "\n",
    "    # Run the initializer\n",
    "    sess.run(init)\n",
    "\n",
    "    for step in range(1, training_steps+1):\n",
    "        batch_x, batch_y = mnist.train.next_batch(batch_size)\n",
    "        # Reshape data to get 28 seq of 28 elements\n",
    "        batch_x = batch_x.reshape((batch_size, timesteps, num_input))\n",
    "        # Run optimization op (backprop)\n",
    "        sess.run(train_op, feed_dict={X: batch_x, Y: batch_y})\n",
    "        if step % display_step == 0 or step == 1:\n",
    "            # Calculate batch loss and accuracy\n",
    "            loss, acc = sess.run([loss_op, accuracy], feed_dict={X: batch_x,\n",
    "                                                                 Y: batch_y})\n",
    "            print(\"Step \" + str(step) + \", Minibatch Loss= \" + \\\n",
    "                  \"{:.4f}\".format(loss) + \", Training Accuracy= \" + \\\n",
    "                  \"{:.3f}\".format(acc))\n",
    "\n",
    "    print(\"Optimization Finished!\")\n",
    "\n",
    "    # Calculate accuracy for 128 mnist test images\n",
    "    test_len = 128\n",
    "    test_data = mnist.test.images[:test_len].reshape((-1, timesteps, num_input))\n",
    "    test_label = mnist.test.labels[:test_len]\n",
    "    print(\"Testing Accuracy:\", \\\n",
    "        sess.run(accuracy, feed_dict={X: test_data, Y: test_label}))"
   ]
  }
 ],
 "metadata": {
  "kernelspec": {
   "display_name": "Python 3",
   "language": "python",
   "name": "python3"
  },
  "language_info": {
   "codemirror_mode": {
    "name": "ipython",
    "version": 3
   },
   "file_extension": ".py",
   "mimetype": "text/x-python",
   "name": "python",
   "nbconvert_exporter": "python",
   "pygments_lexer": "ipython3",
   "version": "3.6.2"
  }
 },
 "nbformat": 4,
 "nbformat_minor": 2
}
