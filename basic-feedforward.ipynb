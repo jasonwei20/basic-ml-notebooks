{
 "cells": [
  {
   "cell_type": "markdown",
   "metadata": {},
   "source": [
    "# The Most Basic Neural Network I Could Think Of\n",
    "This is a basic neural network with a 3 perceptron input layer, a 4 perceptron hidden layer, and a 2 perceptron output layer. w0 is the weights from l0 to l1, and w1 is the weights from l1 to l2."
   ]
  },
  {
   "cell_type": "code",
   "execution_count": 2,
   "metadata": {
    "collapsed": true
   },
   "outputs": [],
   "source": [
    "import numpy as np"
   ]
  },
  {
   "cell_type": "markdown",
   "metadata": {},
   "source": [
    "Define the sigmoid function for perceptrons and its derivative."
   ]
  },
  {
   "cell_type": "code",
   "execution_count": 3,
   "metadata": {
    "collapsed": true
   },
   "outputs": [],
   "source": [
    "def sigmoid(x):\n",
    "    return 1/(1+np.exp(-x))\n",
    "def sigmoid_deriv(x):\n",
    "    return x*(1-x)"
   ]
  },
  {
   "cell_type": "markdown",
   "metadata": {},
   "source": [
    "Create the matricies for the layers and weights."
   ]
  },
  {
   "cell_type": "code",
   "execution_count": 4,
   "metadata": {},
   "outputs": [
    {
     "name": "stdout",
     "output_type": "stream",
     "text": [
      "Dimensions of matrices:\n",
      "x: (1, 3) y: (1, 2) w0: (3, 4) w1 (4, 2)\n"
     ]
    }
   ],
   "source": [
    "x = np.array([[0, 1, 0]])\n",
    "y = np.array([[0, 1]])\n",
    "\n",
    "w0 = 2*np.random.random((3,4)) - 1\n",
    "w1 = 2*np.random.random((4,2)) - 1\n",
    "\n",
    "print(\"Dimensions of matrices:\")\n",
    "print(\"x:\", x.shape, \"y:\", y.shape, \"w0:\", w0.shape, \"w1\", w1.shape)"
   ]
  },
  {
   "cell_type": "markdown",
   "metadata": {},
   "source": [
    "Make the network learn."
   ]
  },
  {
   "cell_type": "code",
   "execution_count": 5,
   "metadata": {},
   "outputs": [
    {
     "name": "stdout",
     "output_type": "stream",
     "text": [
      "[[ 0.45891628  0.41599722]\n",
      " [-0.79312504 -0.49808311]\n",
      " [-0.80251959  0.38105612]\n",
      " [-0.69274921 -0.52446896]]\n",
      "[[-0.41959446 -0.90284474  0.83580954 -0.77566249]\n",
      " [ 0.9733044   0.96671698  0.85715104  0.27792956]\n",
      " [ 0.0577301  -0.89779229 -0.18854363  0.43090738]]\n",
      "Error:0.380842131415\n",
      "[[-0.52800562  1.9023295 ]\n",
      " [-1.76613131  0.96791177]\n",
      " [-1.79451266  1.86489266]\n",
      " [-1.46524252  0.63450587]]\n",
      "[[-0.41959446 -0.90284474  0.83580954 -0.77566249]\n",
      " [ 1.38400952  1.3450373   1.53322767  0.62536526]\n",
      " [ 0.0577301  -0.89779229 -0.18854363  0.43090738]]\n",
      "Error:0.0141345679907\n",
      "[[-0.63319422  2.01090607]\n",
      " [-1.87057924  1.07572376]\n",
      " [-1.90281027  1.9766783 ]\n",
      " [-1.5514363   0.72347541]]\n",
      "[[-0.41959446 -0.90284474  0.83580954 -0.77566249]\n",
      " [ 1.43764166  1.40557665  1.60473178  0.69033292]\n",
      " [ 0.0577301  -0.89779229 -0.18854363  0.43090738]]\n",
      "Error:0.00971717514063\n",
      "[[-0.69295458  2.072397  ]\n",
      " [-1.92999457  1.13685964]\n",
      " [-1.96441284  2.04006478]\n",
      " [-1.60085652  0.77432671]]\n",
      "[[-0.41959446 -0.90284474  0.83580954 -0.77566249]\n",
      " [ 1.46893933  1.44063167  1.64526943  0.72857096]\n",
      " [ 0.0577301  -0.89779229 -0.18854363  0.43090738]]\n",
      "Error:0.00782027534474\n",
      "[[-0.73465684  2.11525009]\n",
      " [-1.97148599  1.17949608]\n",
      " [-2.00742479  2.0842637 ]\n",
      " [-1.63553936  0.80996665]]\n",
      "[[-0.41959446 -0.90284474  0.83580954 -0.77566249]\n",
      " [ 1.49109611  1.46533232  1.6734915   0.75577754]\n",
      " [ 0.0577301  -0.89779229 -0.18854363  0.43090738]]\n",
      "Error:0.00670877848327\n",
      "[[-0.76663645  2.14808708]\n",
      " [-2.00331968  1.21218324]\n",
      " [-2.04041941  2.11814291]\n",
      " [-1.66224594  0.83738924]]\n",
      "[[-0.41959446 -0.90284474  0.83580954 -0.77566249]\n",
      " [ 1.50824907  1.48439107  1.69508668  0.77691495]\n",
      " [ 0.0577301  -0.89779229 -0.18854363  0.43090738]]\n",
      "Error:0.00595906671035\n"
     ]
    }
   ],
   "source": [
    "num_epochs = 60000\n",
    "learn_rate = 0.1\n",
    "\n",
    "for i in range(num_epochs):\n",
    "    \n",
    "    #Feedforward.\n",
    "    l0 = x\n",
    "    l1 = sigmoid(np.dot(l0, w0))\n",
    "    l2 = sigmoid(np.dot(l1, w1))\n",
    "    \n",
    "    #Calculate errors and then backpropagate.\n",
    "    E2 = y - l2\n",
    "    d2 = E2 * sigmoid_deriv(l2)\n",
    "    E1 = np.dot(d2, w1.T)\n",
    "    d1 = E1 * sigmoid_deriv(l1)\n",
    "    \n",
    "    #I also have to do change in weights???\n",
    "    \n",
    "    #Update weight matricies.\n",
    "    w1 += learn_rate * (np.dot(l1.T, d2))\n",
    "    w0 += learn_rate * (np.dot(l0.T, d1))\n",
    "    \n",
    "    #See if the errors are getting smaller.\n",
    "    if (i % 10000) == 0:\n",
    "        print(w1)\n",
    "        print(w0)\n",
    "        print (\"Error:\" + str(np.mean(np.abs(E2))))\n",
    "    "
   ]
  },
  {
   "cell_type": "markdown",
   "metadata": {},
   "source": [
    "This is a note about lambda expressions in Python."
   ]
  },
  {
   "cell_type": "code",
   "execution_count": null,
   "metadata": {
    "collapsed": true
   },
   "outputs": [],
   "source": [
    "        # Note: in Python, you can define a function with a lambda expression,\n",
    "        # as shown below.\n",
    "        self.activation_function = lambda x : 1/(1+np.exp(-x))  # Replace 0 with your sigmoid calculation.\n",
    "        \n",
    "        ### If the lambda code above is not something you're familiar with,\n",
    "        # You can uncomment out the following three lines and put your \n",
    "        # implementation there instead.\n",
    "        #\n",
    "        #def sigmoid(x):\n",
    "        #    return 0  # Replace 0 with your sigmoid calculation here\n",
    "        #self.activation_function = sigmoid"
   ]
  }
 ],
 "metadata": {
  "kernelspec": {
   "display_name": "Python 3",
   "language": "python",
   "name": "python3"
  },
  "language_info": {
   "codemirror_mode": {
    "name": "ipython",
    "version": 3
   },
   "file_extension": ".py",
   "mimetype": "text/x-python",
   "name": "python",
   "nbconvert_exporter": "python",
   "pygments_lexer": "ipython3",
   "version": "3.6.2"
  }
 },
 "nbformat": 4,
 "nbformat_minor": 2
}
